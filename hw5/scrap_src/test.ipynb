{
 "cells": [
  {
   "cell_type": "code",
   "execution_count": 20,
   "metadata": {},
   "outputs": [],
   "source": [
    "from bs4 import BeautifulSoup\n",
    "import bs4\n",
    "from selenium import webdriver\n",
    "from selenium.webdriver.chrome.options import Options\n",
    "from selenium.webdriver.support.ui import WebDriverWait\n",
    "from selenium.webdriver.support import expected_conditions as EC\n",
    "\n",
    "from selenium.webdriver.edge.service import Service as EdgeService\n",
    "from selenium.webdriver.common.by import By"
   ]
  },
  {
   "cell_type": "code",
   "execution_count": 16,
   "metadata": {},
   "outputs": [],
   "source": [
    "options = Options()\n",
    "# options.add_argument(\"--headless\")\n",
    "options.add_argument('--disable-gpu')\n",
    "options.add_argument('--no-sandbox')\n",
    "options.add_argument('--enable-chrome-browser-cloud-management')\n",
    "# options.add_experimental_option('useAutomationExtension', False)\n",
    "\n",
    "service = EdgeService()\n",
    "webdriver = webdriver.Edge(options=options, service=service)\n",
    "url = \"https://spb.cian.ru/kupit-kvartiru/\"\n",
    "webdriver.get(url)\n",
    "soup = BeautifulSoup(webdriver.page_source, 'html.parser')\n",
    "cards = list(soup.body.find_all('article', class_='_93444fe79c--container--Povoi _93444fe79c--cont--OzgVc'))"
   ]
  },
  {
   "cell_type": "code",
   "execution_count": 31,
   "metadata": {},
   "outputs": [
    {
     "name": "stdout",
     "output_type": "stream",
     "text": [
      "[<span class=\"\">1-комн. апартаменты, 46,3 м², 11/15 этаж</span>, 'Секция 7 • Сдача корпуса 2 кв. 2024', 'сдача ГК: 2 кв. 2024 года']\n"
     ]
    }
   ],
   "source": [
    "for card in cards:\n",
    "    info = []\n",
    "    card : bs4.element.Tag\n",
    "    info.append(card.find('span',attrs={''}))\n",
    "    info.append(card.find('span',attrs={'data-mark':['OfferSubtitle']}).text)\n",
    "    info.append(card.find('span',attrs={'data-mark':['Deadline']}).text)\n",
    "    print(info)\n",
    "    break\n",
    "    "
   ]
  },
  {
   "cell_type": "code",
   "execution_count": null,
   "metadata": {},
   "outputs": [],
   "source": []
  }
 ],
 "metadata": {
  "kernelspec": {
   "display_name": ".venv",
   "language": "python",
   "name": "python3"
  },
  "language_info": {
   "codemirror_mode": {
    "name": "ipython",
    "version": 3
   },
   "file_extension": ".py",
   "mimetype": "text/x-python",
   "name": "python",
   "nbconvert_exporter": "python",
   "pygments_lexer": "ipython3",
   "version": "3.11.6"
  }
 },
 "nbformat": 4,
 "nbformat_minor": 2
}
